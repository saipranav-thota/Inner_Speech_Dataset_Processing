{
 "cells": [
  {
   "cell_type": "markdown",
   "id": "42fe9e1f",
   "metadata": {},
   "source": [
    "## To split the data into different classes for further training"
   ]
  },
  {
   "cell_type": "code",
   "execution_count": 3,
   "id": "34adde59",
   "metadata": {},
   "outputs": [],
   "source": [
    "import os\n",
    "import shutil\n",
    "from tqdm import tqdm"
   ]
  },
  {
   "cell_type": "code",
   "execution_count": 6,
   "id": "01fbf657",
   "metadata": {},
   "outputs": [
    {
     "name": "stdout",
     "output_type": "stream",
     "text": [
      "✅ Files successfully transferred and renamed.\n"
     ]
    }
   ],
   "source": [
    "import os\n",
    "import shutil\n",
    "\n",
    "source_directory = r'D:\\VIT\\IV-Year\\PJT-I\\Speech Imagery Decoding\\Inner_Speech_Dataset\\Dataset\\scalogram'\n",
    "destination_directory = r'D:\\VIT\\IV-Year\\PJT-I\\Speech Imagery Decoding\\Inner_Speech_Dataset\\data'\n",
    "keywords = [\"Up\", \"Down\", \"Left\", \"Right\"]\n",
    "\n",
    "# Create category folders if they don't exist\n",
    "for word in keywords:\n",
    "    os.makedirs(os.path.join(destination_directory, word), exist_ok=True)\n",
    "\n",
    "# Iterate over subfolders in scalogram\n",
    "for subfolder in os.listdir(source_directory):\n",
    "    subfolder_path = os.path.join(source_directory, subfolder)\n",
    "    if not os.path.isdir(subfolder_path):\n",
    "        continue\n",
    "    # Check if subfolder name contains any keyword\n",
    "    matched = None\n",
    "    for word in keywords:\n",
    "        if word in subfolder:\n",
    "            matched = word\n",
    "            break\n",
    "    if not matched:\n",
    "        continue\n",
    "    # Transfer all .png files in this subfolder\n",
    "    for file in tqdm(os.listdir(subfolder_path)):\n",
    "        if file.endswith('.png'):\n",
    "            src_path = os.path.join(subfolder_path, file)\n",
    "            new_name = f\"{subfolder}_{file}\"\n",
    "            dst_path = os.path.join(destination_directory, matched, new_name)\n",
    "            shutil.copy2(src_path, dst_path)\n",
    "\n",
    "print(\"✅ Files successfully transferred and renamed.\")"
   ]
  },
  {
   "cell_type": "code",
   "execution_count": 7,
   "id": "6a551682",
   "metadata": {},
   "outputs": [
    {
     "name": "stdout",
     "output_type": "stream",
     "text": [
      "D:\\VIT\\IV-Year\\PJT-I\\Speech Imagery Decoding\\Inner_Speech_Dataset\\data\\Down: 10780 files\n",
      "D:\\VIT\\IV-Year\\PJT-I\\Speech Imagery Decoding\\Inner_Speech_Dataset\\data\\Left: 10780 files\n",
      "D:\\VIT\\IV-Year\\PJT-I\\Speech Imagery Decoding\\Inner_Speech_Dataset\\data\\Left: 10780 files\n",
      "D:\\VIT\\IV-Year\\PJT-I\\Speech Imagery Decoding\\Inner_Speech_Dataset\\data\\Right: 10780 files\n",
      "D:\\VIT\\IV-Year\\PJT-I\\Speech Imagery Decoding\\Inner_Speech_Dataset\\data\\Right: 10780 files\n",
      "D:\\VIT\\IV-Year\\PJT-I\\Speech Imagery Decoding\\Inner_Speech_Dataset\\data\\Up: 10780 files\n",
      "D:\\VIT\\IV-Year\\PJT-I\\Speech Imagery Decoding\\Inner_Speech_Dataset\\data\\Up: 10780 files\n"
     ]
    }
   ],
   "source": [
    "directory = r\"D:\\VIT\\IV-Year\\PJT-I\\Speech Imagery Decoding\\Inner_Speech_Dataset\\data\"\n",
    "\n",
    "for root, dirs, files in os.walk(directory):\n",
    "    # Skip the root folder itself if you only want subfolders\n",
    "    if root == directory:\n",
    "        continue\n",
    "    \n",
    "    num_files = len([f for f in files if os.path.isfile(os.path.join(root, f))])\n",
    "    print(f\"{root}: {num_files} files\")\n"
   ]
  }
 ],
 "metadata": {
  "kernelspec": {
   "display_name": "Python 3",
   "language": "python",
   "name": "python3"
  },
  "language_info": {
   "codemirror_mode": {
    "name": "ipython",
    "version": 3
   },
   "file_extension": ".py",
   "mimetype": "text/x-python",
   "name": "python",
   "nbconvert_exporter": "python",
   "pygments_lexer": "ipython3",
   "version": "3.10.11"
  }
 },
 "nbformat": 4,
 "nbformat_minor": 5
}
