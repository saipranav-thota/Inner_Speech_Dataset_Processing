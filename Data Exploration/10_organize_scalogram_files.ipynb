{
 "cells": [
  {
   "cell_type": "markdown",
   "id": "ea5fab55",
   "metadata": {},
   "source": [
    "# Organize EEG Scalogram Files by Channel and Direction\n",
    "\n",
    "This notebook organizes EEG scalogram files into a structured directory hierarchy based on:\n",
    "- Channel codes (A1, B22, etc.)\n",
    "- Movement directions (Up, Down, Left, Right)\n",
    "\n",
    "Example input file: `sub-01_ses-01_trial_040_Inner_Down_A1.png`\n",
    "Will be organized as: `dataset/A1/Down/sub-01_ses-01_trial_040_Inner_Down_A1.png`"
   ]
  },
  {
   "cell_type": "code",
   "execution_count": 6,
   "id": "95f37db5",
   "metadata": {},
   "outputs": [
    {
     "name": "stdout",
     "output_type": "stream",
     "text": [
      "Libraries imported successfully!\n"
     ]
    }
   ],
   "source": [
    "import os\n",
    "import shutil\n",
    "from pathlib import Path\n",
    "from tqdm.notebook import tqdm\n",
    "import re\n",
    "\n",
    "print(\"Libraries imported successfully!\")"
   ]
  },
  {
   "cell_type": "code",
   "execution_count": 7,
   "id": "a79254d3",
   "metadata": {},
   "outputs": [
    {
     "name": "stdout",
     "output_type": "stream",
     "text": [
      "Source directory: D:\\VIT\\IV-Year\\PJT-I\\Speech Imagery Decoding\\Inner_Speech_Dataset\\data\n",
      "Destination directory: D:\\VIT\\IV-Year\\PJT-I\\Speech Imagery Decoding\\Inner_Speech_Dataset\\dataset\n",
      "Number of channels: 20\n",
      "Directions: Up, Down, Left, Right\n"
     ]
    }
   ],
   "source": [
    "# Define paths\n",
    "SOURCE_DIR = r'D:\\VIT\\IV-Year\\PJT-I\\Speech Imagery Decoding\\Inner_Speech_Dataset\\data'\n",
    "DEST_DIR = r'D:\\VIT\\IV-Year\\PJT-I\\Speech Imagery Decoding\\Inner_Speech_Dataset\\dataset'\n",
    "\n",
    "# Define valid channel codes\n",
    "CHANNEL_CODES = [\n",
    "    'D19', 'D28', 'D23', 'B22', 'D21', 'D3', 'D7', 'D20',\n",
    "    'C12', 'B31', 'B27', 'A3', 'D15', 'C17', 'C21', 'D31',\n",
    "    'D5', 'C7', 'A1', 'C24'\n",
    "]\n",
    "\n",
    "# Define valid directions\n",
    "DIRECTIONS = ['Up', 'Down', 'Left', 'Right']\n",
    "\n",
    "print(f\"Source directory: {SOURCE_DIR}\")\n",
    "print(f\"Destination directory: {DEST_DIR}\")\n",
    "print(f\"Number of channels: {len(CHANNEL_CODES)}\")\n",
    "print(f\"Directions: {', '.join(DIRECTIONS)}\")"
   ]
  },
  {
   "cell_type": "code",
   "execution_count": 8,
   "id": "a4e50ed3",
   "metadata": {},
   "outputs": [
    {
     "name": "stdout",
     "output_type": "stream",
     "text": [
      "✅ Directory structure created successfully\n"
     ]
    }
   ],
   "source": [
    "# Create directory structure\n",
    "for channel in CHANNEL_CODES:\n",
    "    for direction in DIRECTIONS:\n",
    "        # Create path like dataset/A1/Up/\n",
    "        dir_path = os.path.join(DEST_DIR, channel, direction)\n",
    "        os.makedirs(dir_path, exist_ok=True)\n",
    "\n",
    "print(\"✅ Directory structure created successfully\")"
   ]
  },
  {
   "cell_type": "code",
   "execution_count": null,
   "id": "290d81b7",
   "metadata": {},
   "outputs": [
    {
     "name": "stdout",
     "output_type": "stream",
     "text": [
      "\n",
      "Processing Up folder: 10780 files found\n"
     ]
    },
    {
     "data": {
      "application/vnd.jupyter.widget-view+json": {
       "model_id": "8141a32d62204019bcbc288c4297b15f",
       "version_major": 2,
       "version_minor": 0
      },
      "text/plain": [
       "Processing Up files:   0%|          | 0/10780 [00:00<?, ?it/s]"
      ]
     },
     "metadata": {},
     "output_type": "display_data"
    },
    {
     "name": "stdout",
     "output_type": "stream",
     "text": [
      "\n",
      "Processing Down folder: 10780 files found\n"
     ]
    },
    {
     "data": {
      "application/vnd.jupyter.widget-view+json": {
       "model_id": "5d0d9a8c66f14b449ed558be75a3fc52",
       "version_major": 2,
       "version_minor": 0
      },
      "text/plain": [
       "Processing Down files:   0%|          | 0/10780 [00:00<?, ?it/s]"
      ]
     },
     "metadata": {},
     "output_type": "display_data"
    }
   ],
   "source": [
    "def extract_info_from_filename(filename):\n",
    "    \"\"\"Extract channel from filename.\"\"\"\n",
    "    # Find channel code\n",
    "    channel = None\n",
    "    for code in CHANNEL_CODES:\n",
    "        if filename.endswith(f\"_{code}.png\"):\n",
    "            channel = code\n",
    "            break\n",
    "    return channel\n",
    "\n",
    "# Process files\n",
    "processed_count = 0\n",
    "skipped_count = 0\n",
    "file_distribution = {channel: {direction: 0 for direction in DIRECTIONS} for channel in CHANNEL_CODES}\n",
    "\n",
    "# Process each direction folder\n",
    "for direction in DIRECTIONS:\n",
    "    direction_path = os.path.join(SOURCE_DIR, direction)\n",
    "    if not os.path.exists(direction_path):\n",
    "        print(f\"Warning: Direction folder {direction} not found in {SOURCE_DIR}\")\n",
    "        continue\n",
    "\n",
    "    # Get all PNG files in this direction folder\n",
    "    png_files = [f for f in os.listdir(direction_path) if f.endswith('.png')]\n",
    "    \n",
    "    print(f\"\\nProcessing {direction} folder: {len(png_files)} files found\")\n",
    "    \n",
    "    for filename in tqdm(png_files, desc=f\"Processing {direction} files\"):\n",
    "        # Extract channel\n",
    "        channel = extract_info_from_filename(filename)\n",
    "        \n",
    "        if channel:\n",
    "            # Source and destination paths\n",
    "            src_path = os.path.join(direction_path, filename)\n",
    "            dst_path = os.path.join(DEST_DIR, channel, direction, filename)\n",
    "            \n",
    "            # Create destination directory if it doesn't exist\n",
    "            os.makedirs(os.path.dirname(dst_path), exist_ok=True)\n",
    "            \n",
    "            try:\n",
    "                # Copy file\n",
    "                shutil.copy2(src_path, dst_path)\n",
    "                \n",
    "                # Update statistics\n",
    "                processed_count += 1\n",
    "                file_distribution[channel][direction] += 1\n",
    "            except Exception as e:\n",
    "                print(f\"Error copying {filename}: {str(e)}\")\n",
    "                skipped_count += 1\n",
    "        else:\n",
    "            print(f\"Skipping {filename} - Could not extract channel\")\n",
    "            skipped_count += 1\n",
    "\n",
    "print(f\"\\n=== Processing Complete ===\")\n",
    "print(f\"✓ Processed: {processed_count} files\")\n",
    "print(f\"✗ Skipped: {skipped_count} files\")"
   ]
  },
  {
   "cell_type": "code",
   "execution_count": null,
   "id": "d4787a1b",
   "metadata": {},
   "outputs": [
    {
     "name": "stdout",
     "output_type": "stream",
     "text": [
      "=== File Distribution ===\n",
      "\n",
      "Channel | Up   | Down | Left | Right | Total\n",
      "---------------------------------------------\n",
      "---------------------------------------------\n",
      "Total  |    0 |    0 |    0 |    0 |     0\n"
     ]
    }
   ],
   "source": [
    "# Print distribution statistics\n",
    "print(\"=== File Distribution ===\\n\")\n",
    "\n",
    "# Print header\n",
    "print(f\"{'Channel':6} | {'Up':4} | {'Down':4} | {'Left':4} | {'Right':4} | {'Total':5}\")\n",
    "print(\"-\" * 45)\n",
    "\n",
    "# Print statistics for each channel\n",
    "for channel in CHANNEL_CODES:\n",
    "    counts = file_distribution[channel]\n",
    "    total = sum(counts.values())\n",
    "    if total > 0:  # Only show channels with files\n",
    "        print(f\"{channel:6} | {counts['Up']:4} | {counts['Down']:4} | {counts['Left']:4} | {counts['Right']:4} | {total:5}\")\n",
    "\n",
    "# Print totals\n",
    "print(\"-\" * 45)\n",
    "direction_totals = {\n",
    "    direction: sum(file_distribution[channel][direction] for channel in CHANNEL_CODES)\n",
    "    for direction in DIRECTIONS\n",
    "}\n",
    "grand_total = sum(direction_totals.values())\n",
    "print(f\"{'Total':6} | {direction_totals['Up']:4} | {direction_totals['Down']:4} | {direction_totals['Left']:4} | {direction_totals['Right']:4} | {grand_total:5}\")"
   ]
  }
 ],
 "metadata": {
  "kernelspec": {
   "display_name": "Python 3",
   "language": "python",
   "name": "python3"
  },
  "language_info": {
   "codemirror_mode": {
    "name": "ipython",
    "version": 3
   },
   "file_extension": ".py",
   "mimetype": "text/x-python",
   "name": "python",
   "nbconvert_exporter": "python",
   "pygments_lexer": "ipython3",
   "version": "3.10.11"
  }
 },
 "nbformat": 4,
 "nbformat_minor": 5
}
