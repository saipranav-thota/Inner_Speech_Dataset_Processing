{
 "cells": [
  {
   "cell_type": "code",
   "execution_count": 7,
   "id": "5cb86568",
   "metadata": {},
   "outputs": [],
   "source": [
    "import os\n",
    "import shutil\n",
    "from tqdm.auto import tqdm\n",
    "import re"
   ]
  },
  {
   "cell_type": "code",
   "execution_count": 9,
   "id": "deebc9cc",
   "metadata": {},
   "outputs": [],
   "source": [
    "def filter_channels_with_regex(source_dir, output_dir, target_channels_list):\n",
    "    \"\"\"\n",
    "    Scans a source directory and uses a regex to parse filenames. It copies only the files \n",
    "    for target channels to a new output directory, maintaining the folder structure.\n",
    "\n",
    "    Args:\n",
    "        source_dir (str): The path to the directory containing the source data.\n",
    "        output_dir (str): The path to the directory where filtered data will be saved.\n",
    "        target_channels_list (list or set): A list or set of channel names to keep.\n",
    "    \"\"\"\n",
    "    # Use a set for faster lookups\n",
    "    target_channels_set = set(target_channels_list)\n",
    "    \n",
    "    # Define the regex pattern to find the channel name at the end of the filename\n",
    "    # This pattern looks for an underscore, followed by one or more letters and one or more numbers,\n",
    "    # right before the .npy extension at the end of the string.\n",
    "    channel_pattern = re.compile(r'_([A-Z]+\\d+)\\.npy$')\n",
    "    \n",
    "    # Ensure the main output directory exists\n",
    "    os.makedirs(output_dir, exist_ok=True)\n",
    "    print(f\"Output directory created/ensured at: {output_dir}\")\n",
    "\n",
    "    # --- Scan, Filter, and Copy Files ---\n",
    "    copied_count = 0\n",
    "    skipped_count = 0\n",
    "    \n",
    "    all_npy_files = []\n",
    "    for root, dirs, files in os.walk(source_dir):\n",
    "        for file in files:\n",
    "            if file.endswith('.npy'):\n",
    "                all_npy_files.append(os.path.join(root, file))\n",
    "    \n",
    "    print(f\"\\nFound {len(all_npy_files)} total .npy files. Starting filtering with regex...\")\n",
    "\n",
    "    for source_path in tqdm(all_npy_files, desc=\"Filtering Channels\"):\n",
    "        file_name = os.path.basename(source_path)\n",
    "        \n",
    "        # Use regex to find a match\n",
    "        match = channel_pattern.search(file_name)\n",
    "        \n",
    "        # Check if the pattern was found and if the captured channel is a target\n",
    "        if match and match.group(1) in target_channels_set:\n",
    "            # Construct the corresponding destination path\n",
    "            relative_path = os.path.relpath(os.path.dirname(source_path), source_dir)\n",
    "            destination_dir = os.path.join(output_dir, relative_path)\n",
    "            destination_path = os.path.join(destination_dir, file_name)\n",
    "            \n",
    "            # Create the destination subfolder if it doesn't exist\n",
    "            os.makedirs(destination_dir, exist_ok=True)\n",
    "            \n",
    "            # Copy the file\n",
    "            shutil.copy2(source_path, destination_path)\n",
    "            copied_count += 1\n",
    "        else:\n",
    "            skipped_count += 1\n",
    "\n",
    "    # --- Display Final Summary ---\n",
    "    print(\"\\n=== FILTERING COMPLETE ===\")\n",
    "    print(f\"Total .npy files scanned: {len(all_npy_files)}\")\n",
    "    print(f\"✓ Files for target channels copied: {copied_count}\")\n",
    "    print(f\"✗ Files for other channels skipped: {skipped_count}\")\n"
   ]
  },
  {
   "cell_type": "code",
   "execution_count": 10,
   "id": "e7607d7f",
   "metadata": {},
   "outputs": [
    {
     "name": "stdout",
     "output_type": "stream",
     "text": [
      "Output directory created/ensured at: D:\\VIT\\IV-Year\\PJT-I\\Speech Imagery Decoding\\Inner_Speech_Dataset\\Dataset\\filtered_data_regex\n",
      "\n",
      "Found 275968 total .npy files. Starting filtering with regex...\n"
     ]
    },
    {
     "data": {
      "application/vnd.jupyter.widget-view+json": {
       "model_id": "c42e3040def64cf48fbcc69bde84d0f0",
       "version_major": 2,
       "version_minor": 0
      },
      "text/plain": [
       "Filtering Channels:   0%|          | 0/275968 [00:00<?, ?it/s]"
      ]
     },
     "metadata": {},
     "output_type": "display_data"
    },
    {
     "name": "stdout",
     "output_type": "stream",
     "text": [
      "\n",
      "=== FILTERING COMPLETE ===\n",
      "Total .npy files scanned: 275968\n",
      "✓ Files for target channels copied: 43120\n",
      "✗ Files for other channels skipped: 232848\n"
     ]
    }
   ],
   "source": [
    "# --- Example Usage ---\n",
    "\n",
    "# 1. Define your source and destination directories\n",
    "source_directory = r'D:\\VIT\\IV-Year\\PJT-I\\Speech Imagery Decoding\\Inner_Speech_Dataset\\Dataset\\speech\\Inner'\n",
    "destination_directory = r'D:\\VIT\\IV-Year\\PJT-I\\Speech Imagery Decoding\\Inner_Speech_Dataset\\Dataset\\filtered_data_regex'\n",
    "\n",
    "# 2. Define the list of channels you want to select\n",
    "channels_to_keep = [\n",
    "    'D19', 'D28', 'D23', 'B22', 'D21', 'D3', 'D7', 'D20', 'C12',\n",
    "    'B31', 'B27', 'A3', 'D15', 'C17', 'C21', 'D31', 'D5', 'C7',\n",
    "    'A1', 'C24'\n",
    "]\n",
    "\n",
    "# 3. Call the function to perform the filtering\n",
    "filter_channels_with_regex(\n",
    "    source_dir=source_directory, \n",
    "    output_dir=destination_directory, \n",
    "    target_channels_list=channels_to_keep\n",
    ")"
   ]
  }
 ],
 "metadata": {
  "kernelspec": {
   "display_name": "Python 3",
   "language": "python",
   "name": "python3"
  },
  "language_info": {
   "codemirror_mode": {
    "name": "ipython",
    "version": 3
   },
   "file_extension": ".py",
   "mimetype": "text/x-python",
   "name": "python",
   "nbconvert_exporter": "python",
   "pygments_lexer": "ipython3",
   "version": "3.10.11"
  }
 },
 "nbformat": 4,
 "nbformat_minor": 5
}
