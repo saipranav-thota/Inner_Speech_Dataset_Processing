{
 "cells": [
  {
   "cell_type": "code",
   "execution_count": 6,
   "id": "2567dfa3",
   "metadata": {},
   "outputs": [],
   "source": [
    "import os\n",
    "import shutil\n",
    "from tqdm import tqdm"
   ]
  },
  {
   "cell_type": "code",
   "execution_count": null,
   "id": "3ac001e8",
   "metadata": {},
   "outputs": [
    {
     "name": "stdout",
     "output_type": "stream",
     "text": [
      "Found 696320 files to process...\n"
     ]
    },
    {
     "name": "stderr",
     "output_type": "stream",
     "text": [
      "Splitting files: 100%|██████████| 696320/696320 [25:56<00:00, 447.27file/s]"
     ]
    },
    {
     "name": "stdout",
     "output_type": "stream",
     "text": [
      "✅ Files successfully split into Inner, Pronounced, and Visualized folders.\n"
     ]
    },
    {
     "name": "stderr",
     "output_type": "stream",
     "text": [
      "\n"
     ]
    }
   ],
   "source": [
    "\n",
    "# Source and destination directories\n",
    "source_directory = r'D:\\VIT\\IV-Year\\PJT-I\\Speech Imagery Decoding\\Inner_Speech_Dataset\\Dataset\\normalized_data'\n",
    "destination_directory = r'D:\\VIT\\IV-Year\\PJT-I\\Speech Imagery Decoding\\Inner_Speech_Dataset\\Dataset\\speech'\n",
    "\n",
    "# Define categories\n",
    "categories = [\"Inner\", \"Pronounced\", \"Visualized\"]\n",
    "\n",
    "# Create subfolders inside destination\n",
    "for category in categories:\n",
    "    os.makedirs(os.path.join(destination_directory, category), exist_ok=True)\n",
    "\n",
    "all_files = []\n",
    "for root, _, files in os.walk(source_directory):\n",
    "    for file in files:\n",
    "        if file.endswith(\".npy\"):\n",
    "            all_files.append(os.path.join(root, file))\n",
    "\n",
    "print(f\"Found {len(all_files)} files to process...\")\n",
    "\n",
    "\n",
    "for src_path in tqdm(all_files, desc=\"Splitting files\", unit=\"file\"):\n",
    "    file = os.path.basename(src_path)\n",
    "\n",
    "    # Decide category by filename\n",
    "    if \"Pronounced\" in file:\n",
    "        dst_path = os.path.join(destination_directory, \"Pronounced\", file)\n",
    "    elif \"Inner\" in file:\n",
    "        dst_path = os.path.join(destination_directory, \"Inner\", file)\n",
    "    elif \"Visualized\" in file:\n",
    "        dst_path = os.path.join(destination_directory, \"Visualized\", file)\n",
    "    else:\n",
    "        continue  # skip files that don't match\n",
    "\n",
    "    # Copy file (change to shutil.move if you want to move instead of copy)\n",
    "    shutil.copy2(src_path, dst_path)\n",
    "\n",
    "\n",
    "print(\"✅ Files successfully split into Inner, Pronounced, and Visualized folders.\")"
   ]
  },
  {
   "cell_type": "code",
   "execution_count": 9,
   "id": "130bc735",
   "metadata": {},
   "outputs": [
    {
     "name": "stdout",
     "output_type": "stream",
     "text": [
      "D:\\VIT\\IV-Year\\PJT-I\\Speech Imagery Decoding\\Inner_Speech_Dataset\\Dataset\\speech\\Inner: 275968 files\n",
      "D:\\VIT\\IV-Year\\PJT-I\\Speech Imagery Decoding\\Inner_Speech_Dataset\\Dataset\\speech\\Pronounced: 139264 files\n",
      "D:\\VIT\\IV-Year\\PJT-I\\Speech Imagery Decoding\\Inner_Speech_Dataset\\Dataset\\speech\\Visualized: 281088 files\n"
     ]
    }
   ],
   "source": [
    "directory = r\"D:\\VIT\\IV-Year\\PJT-I\\Speech Imagery Decoding\\Inner_Speech_Dataset\\Dataset\\speech\"\n",
    "\n",
    "for root, dirs, files in os.walk(directory):\n",
    "    # Skip the root folder itself if you only want subfolders\n",
    "    if root == directory:\n",
    "        continue\n",
    "    \n",
    "    num_files = len([f for f in files if os.path.isfile(os.path.join(root, f))])\n",
    "    print(f\"{root}: {num_files} files\")\n"
   ]
  }
 ],
 "metadata": {
  "kernelspec": {
   "display_name": "Python 3",
   "language": "python",
   "name": "python3"
  },
  "language_info": {
   "codemirror_mode": {
    "name": "ipython",
    "version": 3
   },
   "file_extension": ".py",
   "mimetype": "text/x-python",
   "name": "python",
   "nbconvert_exporter": "python",
   "pygments_lexer": "ipython3",
   "version": "3.10.11"
  }
 },
 "nbformat": 4,
 "nbformat_minor": 5
}
